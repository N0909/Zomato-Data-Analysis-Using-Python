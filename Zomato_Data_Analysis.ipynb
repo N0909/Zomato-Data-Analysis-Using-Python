{
 "cells": [
  {
   "cell_type": "markdown",
   "id": "9be3ec76-eee4-4141-9dbc-a01264ace0e5",
   "metadata": {},
   "source": [
    "# Zomato Data Analysis"
   ]
  },
  {
   "cell_type": "markdown",
   "id": "0820e53d-1692-4fab-9e03-ce525c7f918f",
   "metadata": {},
   "source": [
    "About Business: "
   ]
  },
  {
   "cell_type": "markdown",
   "id": "e141525a-e9ab-45f6-b5b6-69dea3f2cd55",
   "metadata": {},
   "source": [
    "Zomato has an average of 17.5 million monthly\n",
    "transacting customers for its food delivery business.e\n",
    "average monthly active food delivery restaurant\n",
    "partners on Zomato's platform have also increased by\n",
    "8.7% year-on-year, from 208,000 to 226,000.we are\n",
    "working in a data-driven role at Zomato. we have a\n",
    "dataset of customers. As a data professional, we\n",
    "need to analyze the data, perform EDA (Exploratory\n",
    "Data Analysis) and visualization"
   ]
  },
  {
   "cell_type": "markdown",
   "id": "a5aa7a53-0f74-452e-a5c4-9e1ca0a1f888",
   "metadata": {},
   "source": [
    "Importing Libraries"
   ]
  },
  {
   "cell_type": "code",
   "execution_count": 1,
   "id": "4fe7eb46-bfb5-4e9f-97a9-df5b95e5bbd3",
   "metadata": {},
   "outputs": [],
   "source": [
    "import pandas as pd \n",
    "import numpy as np \n",
    "import matplotlib.pyplot as plt\n",
    "import seaborn as sn "
   ]
  },
  {
   "cell_type": "markdown",
   "id": "2b673d86-2043-4bfa-9b49-20fdea83c95d",
   "metadata": {},
   "source": [
    "Importing Our Data Set"
   ]
  },
  {
   "cell_type": "code",
   "execution_count": 2,
   "id": "91d1e050-d1ac-4385-8efc-60aa32cffa9c",
   "metadata": {},
   "outputs": [],
   "source": [
    "data = pd.read_csv(\"Zomato_data.csv\")"
   ]
  },
  {
   "cell_type": "code",
   "execution_count": 3,
   "id": "8b2d95ce-e88c-4ed3-ae2a-468b75a2aef0",
   "metadata": {},
   "outputs": [
    {
     "data": {
      "text/html": [
       "<div>\n",
       "<style scoped>\n",
       "    .dataframe tbody tr th:only-of-type {\n",
       "        vertical-align: middle;\n",
       "    }\n",
       "\n",
       "    .dataframe tbody tr th {\n",
       "        vertical-align: top;\n",
       "    }\n",
       "\n",
       "    .dataframe thead th {\n",
       "        text-align: right;\n",
       "    }\n",
       "</style>\n",
       "<table border=\"1\" class=\"dataframe\">\n",
       "  <thead>\n",
       "    <tr style=\"text-align: right;\">\n",
       "      <th></th>\n",
       "      <th>name</th>\n",
       "      <th>online_order</th>\n",
       "      <th>book_table</th>\n",
       "      <th>rate</th>\n",
       "      <th>votes</th>\n",
       "      <th>approx_cost(for two people)</th>\n",
       "      <th>listed_in(type)</th>\n",
       "    </tr>\n",
       "  </thead>\n",
       "  <tbody>\n",
       "    <tr>\n",
       "      <th>0</th>\n",
       "      <td>Jalsa</td>\n",
       "      <td>Yes</td>\n",
       "      <td>Yes</td>\n",
       "      <td>4.1/5</td>\n",
       "      <td>775</td>\n",
       "      <td>800</td>\n",
       "      <td>Buffet</td>\n",
       "    </tr>\n",
       "    <tr>\n",
       "      <th>1</th>\n",
       "      <td>Spice Elephant</td>\n",
       "      <td>Yes</td>\n",
       "      <td>No</td>\n",
       "      <td>4.1/5</td>\n",
       "      <td>787</td>\n",
       "      <td>800</td>\n",
       "      <td>Buffet</td>\n",
       "    </tr>\n",
       "    <tr>\n",
       "      <th>2</th>\n",
       "      <td>San Churro Cafe</td>\n",
       "      <td>Yes</td>\n",
       "      <td>No</td>\n",
       "      <td>3.8/5</td>\n",
       "      <td>918</td>\n",
       "      <td>800</td>\n",
       "      <td>Buffet</td>\n",
       "    </tr>\n",
       "    <tr>\n",
       "      <th>3</th>\n",
       "      <td>Addhuri Udupi Bhojana</td>\n",
       "      <td>No</td>\n",
       "      <td>No</td>\n",
       "      <td>3.7/5</td>\n",
       "      <td>88</td>\n",
       "      <td>300</td>\n",
       "      <td>Buffet</td>\n",
       "    </tr>\n",
       "    <tr>\n",
       "      <th>4</th>\n",
       "      <td>Grand Village</td>\n",
       "      <td>No</td>\n",
       "      <td>No</td>\n",
       "      <td>3.8/5</td>\n",
       "      <td>166</td>\n",
       "      <td>600</td>\n",
       "      <td>Buffet</td>\n",
       "    </tr>\n",
       "  </tbody>\n",
       "</table>\n",
       "</div>"
      ],
      "text/plain": [
       "                    name online_order book_table   rate  votes  \\\n",
       "0                  Jalsa          Yes        Yes  4.1/5    775   \n",
       "1         Spice Elephant          Yes         No  4.1/5    787   \n",
       "2        San Churro Cafe          Yes         No  3.8/5    918   \n",
       "3  Addhuri Udupi Bhojana           No         No  3.7/5     88   \n",
       "4          Grand Village           No         No  3.8/5    166   \n",
       "\n",
       "   approx_cost(for two people) listed_in(type)  \n",
       "0                          800          Buffet  \n",
       "1                          800          Buffet  \n",
       "2                          800          Buffet  \n",
       "3                          300          Buffet  \n",
       "4                          600          Buffet  "
      ]
     },
     "execution_count": 3,
     "metadata": {},
     "output_type": "execute_result"
    }
   ],
   "source": [
    "data.head()"
   ]
  },
  {
   "cell_type": "markdown",
   "id": "67497743-e3f9-4cf2-97c5-8994dc3c132e",
   "metadata": {},
   "source": [
    "### Dataset Description\r\n",
    "\r\n",
    "| **Column Name**            | **Description**                                                           |\r\n",
    "|-----------------------------|---------------------------------------------------------------------------|\r\n",
    "| **Name**                   | Name of Customers                                                        |\r\n",
    "| **Online_Order**           | Whether the order is online or offline (`Yes` for Online, `No` for Offline) |\r\n",
    "| **book_table**             | Whether the customer booked a table or not (`Yes` or `No`)                |\r\n",
    "| **rate**                   | Ratings given by the customer to the service (out of 5)                  |\r\n",
    "| **votes**                  | Number of votes received                                                 |\r\n",
    "| **approx_cost(for two peop)** | Approximate cost for two people                                          |\r\n",
    "| **listed_in(type)**        | Restaurant type                                                          |\r\n"
   ]
  },
  {
   "cell_type": "code",
   "execution_count": 4,
   "id": "632a23ad-22aa-4763-a008-08010e431c1a",
   "metadata": {},
   "outputs": [
    {
     "name": "stdout",
     "output_type": "stream",
     "text": [
      "No of Rows: 148\n",
      "No of Columns: 7\n"
     ]
    }
   ],
   "source": [
    "print(f\"No of Rows: {data.shape[0]}\")\n",
    "print(f\"No of Columns: {data.shape[1]}\")"
   ]
  },
  {
   "cell_type": "code",
   "execution_count": 5,
   "id": "9569806d-dfd0-4d50-b434-082fbce4e3e8",
   "metadata": {},
   "outputs": [
    {
     "data": {
      "text/plain": [
       "name                           0.0\n",
       "online_order                   0.0\n",
       "book_table                     0.0\n",
       "rate                           0.0\n",
       "votes                          0.0\n",
       "approx_cost(for two people)    0.0\n",
       "listed_in(type)                0.0\n",
       "dtype: float64"
      ]
     },
     "execution_count": 5,
     "metadata": {},
     "output_type": "execute_result"
    }
   ],
   "source": [
    "data.isnull().mean()*100"
   ]
  },
  {
   "cell_type": "code",
   "execution_count": 6,
   "id": "8f568394-d4d3-400e-b127-861ae62d7cda",
   "metadata": {},
   "outputs": [],
   "source": [
    "data['rate'] = data['rate'].map(lambda x:x.split('/')[0]).astype(\"float\")"
   ]
  },
  {
   "cell_type": "code",
   "execution_count": 7,
   "id": "e231702e-24c0-49b4-bf8a-7e6d2eab09da",
   "metadata": {},
   "outputs": [
    {
     "data": {
      "text/plain": [
       "0      4.1\n",
       "1      4.1\n",
       "2      3.8\n",
       "3      3.7\n",
       "4      3.8\n",
       "      ... \n",
       "143    3.3\n",
       "144    3.3\n",
       "145    4.0\n",
       "146    3.0\n",
       "147    3.9\n",
       "Name: rate, Length: 148, dtype: float64"
      ]
     },
     "execution_count": 7,
     "metadata": {},
     "output_type": "execute_result"
    }
   ],
   "source": [
    "data['rate']"
   ]
  },
  {
   "cell_type": "code",
   "execution_count": 18,
   "id": "3bfcffb7-a2d7-41f8-9865-bc3b711aff38",
   "metadata": {},
   "outputs": [
    {
     "data": {
      "text/html": [
       "<div>\n",
       "<style scoped>\n",
       "    .dataframe tbody tr th:only-of-type {\n",
       "        vertical-align: middle;\n",
       "    }\n",
       "\n",
       "    .dataframe tbody tr th {\n",
       "        vertical-align: top;\n",
       "    }\n",
       "\n",
       "    .dataframe thead th {\n",
       "        text-align: right;\n",
       "    }\n",
       "</style>\n",
       "<table border=\"1\" class=\"dataframe\">\n",
       "  <thead>\n",
       "    <tr style=\"text-align: right;\">\n",
       "      <th></th>\n",
       "      <th>name</th>\n",
       "      <th>online_order</th>\n",
       "      <th>book_table</th>\n",
       "      <th>rate</th>\n",
       "      <th>votes</th>\n",
       "      <th>approx_cost(for two people)</th>\n",
       "      <th>listed_in(type)</th>\n",
       "    </tr>\n",
       "  </thead>\n",
       "  <tbody>\n",
       "    <tr>\n",
       "      <th>0</th>\n",
       "      <td>Jalsa</td>\n",
       "      <td>Yes</td>\n",
       "      <td>Yes</td>\n",
       "      <td>4.1</td>\n",
       "      <td>775</td>\n",
       "      <td>800</td>\n",
       "      <td>Buffet</td>\n",
       "    </tr>\n",
       "    <tr>\n",
       "      <th>1</th>\n",
       "      <td>Spice Elephant</td>\n",
       "      <td>Yes</td>\n",
       "      <td>No</td>\n",
       "      <td>4.1</td>\n",
       "      <td>787</td>\n",
       "      <td>800</td>\n",
       "      <td>Buffet</td>\n",
       "    </tr>\n",
       "    <tr>\n",
       "      <th>2</th>\n",
       "      <td>San Churro Cafe</td>\n",
       "      <td>Yes</td>\n",
       "      <td>No</td>\n",
       "      <td>3.8</td>\n",
       "      <td>918</td>\n",
       "      <td>800</td>\n",
       "      <td>Buffet</td>\n",
       "    </tr>\n",
       "    <tr>\n",
       "      <th>3</th>\n",
       "      <td>Addhuri Udupi Bhojana</td>\n",
       "      <td>No</td>\n",
       "      <td>No</td>\n",
       "      <td>3.7</td>\n",
       "      <td>88</td>\n",
       "      <td>300</td>\n",
       "      <td>Buffet</td>\n",
       "    </tr>\n",
       "    <tr>\n",
       "      <th>4</th>\n",
       "      <td>Grand Village</td>\n",
       "      <td>No</td>\n",
       "      <td>No</td>\n",
       "      <td>3.8</td>\n",
       "      <td>166</td>\n",
       "      <td>600</td>\n",
       "      <td>Buffet</td>\n",
       "    </tr>\n",
       "    <tr>\n",
       "      <th>...</th>\n",
       "      <td>...</td>\n",
       "      <td>...</td>\n",
       "      <td>...</td>\n",
       "      <td>...</td>\n",
       "      <td>...</td>\n",
       "      <td>...</td>\n",
       "      <td>...</td>\n",
       "    </tr>\n",
       "    <tr>\n",
       "      <th>143</th>\n",
       "      <td>Melting Melodies</td>\n",
       "      <td>No</td>\n",
       "      <td>No</td>\n",
       "      <td>3.3</td>\n",
       "      <td>0</td>\n",
       "      <td>100</td>\n",
       "      <td>Dining</td>\n",
       "    </tr>\n",
       "    <tr>\n",
       "      <th>144</th>\n",
       "      <td>New Indraprasta</td>\n",
       "      <td>No</td>\n",
       "      <td>No</td>\n",
       "      <td>3.3</td>\n",
       "      <td>0</td>\n",
       "      <td>150</td>\n",
       "      <td>Dining</td>\n",
       "    </tr>\n",
       "    <tr>\n",
       "      <th>145</th>\n",
       "      <td>Anna Kuteera</td>\n",
       "      <td>Yes</td>\n",
       "      <td>No</td>\n",
       "      <td>4.0</td>\n",
       "      <td>771</td>\n",
       "      <td>450</td>\n",
       "      <td>Dining</td>\n",
       "    </tr>\n",
       "    <tr>\n",
       "      <th>146</th>\n",
       "      <td>Darbar</td>\n",
       "      <td>No</td>\n",
       "      <td>No</td>\n",
       "      <td>3.0</td>\n",
       "      <td>98</td>\n",
       "      <td>800</td>\n",
       "      <td>Dining</td>\n",
       "    </tr>\n",
       "    <tr>\n",
       "      <th>147</th>\n",
       "      <td>Vijayalakshmi</td>\n",
       "      <td>Yes</td>\n",
       "      <td>No</td>\n",
       "      <td>3.9</td>\n",
       "      <td>47</td>\n",
       "      <td>200</td>\n",
       "      <td>Dining</td>\n",
       "    </tr>\n",
       "  </tbody>\n",
       "</table>\n",
       "<p>148 rows × 7 columns</p>\n",
       "</div>"
      ],
      "text/plain": [
       "                      name online_order book_table  rate  votes  \\\n",
       "0                    Jalsa          Yes        Yes   4.1    775   \n",
       "1           Spice Elephant          Yes         No   4.1    787   \n",
       "2          San Churro Cafe          Yes         No   3.8    918   \n",
       "3    Addhuri Udupi Bhojana           No         No   3.7     88   \n",
       "4            Grand Village           No         No   3.8    166   \n",
       "..                     ...          ...        ...   ...    ...   \n",
       "143       Melting Melodies           No         No   3.3      0   \n",
       "144        New Indraprasta           No         No   3.3      0   \n",
       "145           Anna Kuteera          Yes         No   4.0    771   \n",
       "146                 Darbar           No         No   3.0     98   \n",
       "147          Vijayalakshmi          Yes         No   3.9     47   \n",
       "\n",
       "     approx_cost(for two people) listed_in(type)  \n",
       "0                            800          Buffet  \n",
       "1                            800          Buffet  \n",
       "2                            800          Buffet  \n",
       "3                            300          Buffet  \n",
       "4                            600          Buffet  \n",
       "..                           ...             ...  \n",
       "143                          100          Dining  \n",
       "144                          150          Dining  \n",
       "145                          450          Dining  \n",
       "146                          800          Dining  \n",
       "147                          200          Dining  \n",
       "\n",
       "[148 rows x 7 columns]"
      ]
     },
     "execution_count": 18,
     "metadata": {},
     "output_type": "execute_result"
    }
   ],
   "source": [
    "data"
   ]
  },
  {
   "cell_type": "markdown",
   "id": "e26c5d98-4ca1-4fb1-86d0-5552e08377d1",
   "metadata": {},
   "source": [
    "# Q1) What type of restaurant do the majority of customers order from?\r"
   ]
  },
  {
   "cell_type": "code",
   "execution_count": 8,
   "id": "28b13fae-dfc3-40f1-87b6-054b4ff46fc2",
   "metadata": {},
   "outputs": [
    {
     "data": {
      "image/png": "[encoded data removed]",
      "text/plain": [
       "<Figure size 640x480 with 1 Axes>"
      ]
     },
     "metadata": {},
     "output_type": "display_data"
    }
   ],
   "source": [
    "plt.title(\"Types of Restaurant majority of customers order from\")\n",
    "ax = sn.countplot(x=data[\"listed_in(type)\"],order=data[\"listed_in(type)\"].value_counts(ascending=False).index)\n",
    "ax.bar_label(container = ax.containers[0],labels=data[\"listed_in(type)\"].value_counts(ascending=False).values)\n",
    "plt.ylabel(\"\")\n",
    "plt.xlabel(\"Restaurant\")\n",
    "plt.show()"
   ]
  },
  {
   "cell_type": "markdown",
   "id": "c3e970c8-2af2-4db2-8f27-a4167a832f7f",
   "metadata": {},
   "source": [
    "### Consclusion: Majority of Customers order from Dining Restaurant"
   ]
  },
  {
   "cell_type": "markdown",
   "id": "2b65872e-11b5-4992-b39b-742e9a64b6c7",
   "metadata": {},
   "source": [
    "# Q2) How many votes has each type of restaurant received from customers?"
   ]
  },
  {
   "cell_type": "code",
   "execution_count": 9,
   "id": "19a91936-d845-4899-b1db-c74eb468ada5",
   "metadata": {},
   "outputs": [],
   "source": [
    "group_data = data.groupby([\"listed_in(type)\"])[\"votes\"].sum().sort_values(ascending=False)"
   ]
  },
  {
   "cell_type": "code",
   "execution_count": 10,
   "id": "bf4d1061-7d20-49c9-bf73-25867c88eb08",
   "metadata": {},
   "outputs": [
    {
     "data": {
      "image/png": "[encoded data removed]",
      "text/plain": [
       "<Figure size 640x480 with 1 Axes>"
      ]
     },
     "metadata": {},
     "output_type": "display_data"
    }
   ],
   "source": [
    "plt.title(\"Votes Recieved by Restaurant from Customer\")\n",
    "ax = sn.barplot(x=group_data.index,y=group_data.values)\n",
    "ax.bar_label(container=ax.containers[0],labels=group_data.values)\n",
    "plt.ylabel(\"Votes\")\n",
    "plt.xlabel(\"Restaurant\")\n",
    "plt.show()"
   ]
  },
  {
   "cell_type": "markdown",
   "id": "bcc78552-2191-4654-ae6a-ca1a6e8d067e",
   "metadata": {},
   "source": [
    "### Conclusion: The analysis revealed that Dining Restaurants received the highest customer engagement, with a total of 20,363 votes, highlighting their popularity among users. This insight can help prioritize strategies to further enhance customer experience and engagement in this category."
   ]
  },
  {
   "cell_type": "markdown",
   "id": "fbf2b655-18ab-4dfe-a5ea-9304da6682ec",
   "metadata": {},
   "source": [
    "# Q3) What are the ratings that the majority of restaurants have received?\n"
   ]
  },
  {
   "cell_type": "code",
   "execution_count": 11,
   "id": "5ffb9e1e-7fec-4cd9-bf20-49d8f341bd4a",
   "metadata": {},
   "outputs": [
    {
     "data": {
      "image/png": "[encoded data removed]",
      "text/plain": [
       "<Figure size 640x480 with 1 Axes>"
      ]
     },
     "metadata": {},
     "output_type": "display_data"
    }
   ],
   "source": [
    "plt.hist(data[\"rate\"],bins=5)\n",
    "plt.show()"
   ]
  },
  {
   "cell_type": "markdown",
   "id": "969643f3-6158-4ed5-80b0-cda6ae454056",
   "metadata": {},
   "source": [
    "### Conclusion: The majority of restaurants received ratings in the range of 3.5 to 4.25, indicating a generally favorable customer experience."
   ]
  },
  {
   "cell_type": "markdown",
   "id": "0c8ac194-6939-4951-bebb-8b0657ee2f8d",
   "metadata": {},
   "source": [
    "# Q4) Zomato has observed that most couples order most of their food online.What is their average  spending on each order?\r"
   ]
  },
  {
   "cell_type": "code",
   "execution_count": 66,
   "id": "1d6fc381-1ee0-4632-ba36-ad67c802bb06",
   "metadata": {},
   "outputs": [
    {
     "data": {
      "image/png": "[encoded data removed]",
      "text/plain": [
       "<Figure size 640x480 with 1 Axes>"
      ]
     },
     "metadata": {},
     "output_type": "display_data"
    }
   ],
   "source": [
    "ax = sn.countplot(x = data[\"approx_cost(for two people)\"],order=data[\"approx_cost(for two people)\"].value_counts(ascending=True).index)\n",
    "plt.xlabel(\"Couples Order\")\n",
    "plt.show()"
   ]
  },
  {
   "cell_type": "markdown",
   "id": "1b3a3895-eb19-4c57-9449-1e171e8571de",
   "metadata": {},
   "source": [
    "### Conclusion: Most couples spend an average of 300 per order, providing valuable insights for pricing strategies and targeted promotions in this customer segment."
   ]
  },
  {
   "cell_type": "markdown",
   "id": "98e9ca52-c79a-4a92-995c-a5813a885b15",
   "metadata": {},
   "source": [
    "# Q5) Which mode (online or offline) has received the maximum rating?"
   ]
  },
  {
   "cell_type": "code",
   "execution_count": 67,
   "id": "d542685f-da6a-4fae-b471-f8e15e8a58e9",
   "metadata": {},
   "outputs": [
    {
     "data": {
      "image/png": "[encoded data removed]",
      "text/plain": [
       "<Figure size 640x480 with 1 Axes>"
      ]
     },
     "metadata": {},
     "output_type": "display_data"
    }
   ],
   "source": [
    "sn.boxplot(x=data[\"online_order\"],y=data[\"rate\"])\n",
    "plt.xlabel(\"Order Type\")\n",
    "plt.ylabel(\"Rate\")\n",
    "plt.show()"
   ]
  },
  {
   "cell_type": "markdown",
   "id": "ab228e76-dbbd-4bb4-a4a3-cc2235eab8bf",
   "metadata": {},
   "source": [
    "### Conclusion: Online orders have received the highest ratings, with scores ranging from 3.75 to 4.20, indicating a positive customer experience for online ordering services.\n",
    "\n"
   ]
  },
  {
   "cell_type": "markdown",
   "id": "ae171f7b-d368-4934-8d59-3ed803352820",
   "metadata": {},
   "source": [
    "# Q6) Which type of restaurant received more offline orders, so that Zomato can provide those customers with some good offers?"
   ]
  },
  {
   "cell_type": "code",
   "execution_count": 68,
   "id": "00abc129-d23a-4a4a-bf2f-99d66e985666",
   "metadata": {},
   "outputs": [],
   "source": [
    "group = data[data['online_order']==\"No\"].groupby([\"listed_in(type)\"])[\"online_order\"].count()"
   ]
  },
  {
   "cell_type": "code",
   "execution_count": 69,
   "id": "26f424f1-75cf-43e2-b65f-f9a0aa6b1564",
   "metadata": {},
   "outputs": [
    {
     "data": {
      "image/png": "[encoded data removed]",
      "text/plain": [
       "<Figure size 640x480 with 1 Axes>"
      ]
     },
     "metadata": {},
     "output_type": "display_data"
    }
   ],
   "source": [
    "plt.title(\"Highest online order recieved by Restaurants\")\n",
    "ax=sn.barplot(x=group.index,y=group.values)\n",
    "ax.bar_label(container=ax.containers[0],labels=group.values)\n",
    "plt.xlabel(\"Restaurants\")\n",
    "plt.show()"
   ]
  },
  {
   "cell_type": "markdown",
   "id": "691de972-9d29-463e-93d6-362a7e109127",
   "metadata": {},
   "source": [
    "### Conclusion: Dining has the highest total of 77 online orders, indicating strong online engagement in this restaurant category."
   ]
  },
  {
   "cell_type": "code",
   "execution_count": null,
   "id": "64444de7-82e5-44b8-9abb-7a308e4cef26",
   "metadata": {},
   "outputs": [],
   "source": []
  }
 ],
 "metadata": {
  "kernelspec": {
   "display_name": "Python 3 (ipykernel)",
   "language": "python",
   "name": "python3"
  },
  "language_info": {
   "codemirror_mode": {
    "name": "ipython",
    "version": 3
   },
   "file_extension": ".py",
   "mimetype": "text/x-python",
   "name": "python",
   "nbconvert_exporter": "python",
   "pygments_lexer": "ipython3",
   "version": "3.11.4"
  }
 },
 "nbformat": 4,
 "nbformat_minor": 5
}
